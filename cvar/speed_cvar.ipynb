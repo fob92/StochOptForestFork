{
 "cells": [
  {
   "cell_type": "code",
   "execution_count": 14,
   "metadata": {},
   "outputs": [],
   "source": [
    "%run tree.py\n",
    "%run cvar_tree_utilities.py"
   ]
  },
  {
   "cell_type": "code",
   "execution_count": 15,
   "metadata": {},
   "outputs": [],
   "source": [
    "N_list = [100, 200, 400]; p = 10\n",
    "R = 0.1; alpha = 0.1; obj_coef = 0\n",
    "lb = 0; ub = 1;  sum_bound = 1; if_stoch_constr = False\n",
    "runs = 10\n",
    "\n",
    "generate_Y = generate_Y_lognormal\n",
    "cond_mean = [lambda x: np.exp(x[:, 0])/5, lambda x: x[:, 0]/5, lambda x: np.abs(x[:, 0])/5]\n",
    "cond_std = [lambda x: 1 - 0.5*((-3<=x[:, 1]) & (x[:, 1]<=-1)), lambda x: 1 - 0.5*((-1<=x[:, 1])&(x[:, 1]<=1)), lambda x: 1 - 0.5*((1<=x[:, 1])&(x[:, 1]<=3))]\n",
    "\n",
    "opt_solver = partial(solve_cvar, alpha = alpha, R = R, obj_coef = obj_coef, lb = lb, ub = ub, sum_bound = sum_bound, if_stoch_constr = if_stoch_constr)\n",
    "hessian_computer = partial(compute_hessian, alpha = alpha)\n",
    "active_constraint = partial(search_active_constraint,  R = R, lb = lb, ub = ub, sum_bound = sum_bound, if_stoch_constr = if_stoch_constr)\n",
    "gradient_computer = partial(compute_gradient,  alpha = alpha, R = R, obj_coef = obj_coef)\n",
    "update_step = partial(compute_update_step, R = R)\n",
    "\n",
    "time_list = {str(N): {key: np.zeros(runs) for key in [\"rf_approx_risk\", \"rf_approx_sol\", \"rf_rf\", \"rf_oracle\"]} for N in N_list}"
   ]
  },
  {
   "cell_type": "code",
   "execution_count": 16,
   "metadata": {},
   "outputs": [
    {
     "name": "stdout",
     "output_type": "stream",
     "text": [
      "N: 100\n",
      "run: 0\n",
      "run: 1\n",
      "run: 2\n",
      "run: 3\n",
      "run: 4\n",
      "run: 5\n",
      "run: 6\n",
      "run: 7\n",
      "run: 8\n",
      "run: 9\n",
      "N: 200\n",
      "run: 0\n",
      "run: 1\n",
      "run: 2\n",
      "run: 3\n",
      "run: 4\n",
      "run: 5\n",
      "run: 6\n",
      "run: 7\n",
      "run: 8\n",
      "run: 9\n",
      "N: 400\n",
      "run: 0\n",
      "run: 1\n",
      "run: 2\n",
      "run: 3\n",
      "run: 4\n",
      "run: 5\n",
      "run: 6\n",
      "run: 7\n",
      "run: 8\n",
      "run: 9\n"
     ]
    }
   ],
   "source": [
    "for N in N_list:\n",
    "    print(\"N:\", N)\n",
    "    n_proposals = N; \n",
    "    mtry = p;\n",
    "    subsample_ratio = 1;\n",
    "    max_depth=100; \n",
    "    min_leaf_size=10; \n",
    "    balancedness_tol = 0.2; \n",
    "    honesty = False;\n",
    "    verbose = False; oracle = True;\n",
    "    bootstrap = True; \n",
    "    \n",
    "    X_list = [np.random.normal(size = (N, p)) for run in range(runs)]\n",
    "    Y_list = [generate_Y(X_list[run], cond_mean, cond_std) for run in range(runs)]\n",
    "\n",
    "    for run in range(runs):\n",
    "        print(\"run:\", run)\n",
    "        Y = Y_list[run]; Y_est = Y_list[run]\n",
    "        X = X_list[run]; X_est = X_list[run]; \n",
    "        \n",
    "        time1 = time.time()\n",
    "        rf_approx_risk = build_tree(Y, X, Y_est, X_est, \n",
    "                             opt_solver = opt_solver, hessian_computer = hessian_computer,\n",
    "                             gradient_computer = gradient_computer, \n",
    "                             search_active_constraint = active_constraint,\n",
    "                             compute_update_step = update_step,\n",
    "                             crit_computer = compute_crit_approx_risk, \n",
    "                             honesty = honesty, mtry = mtry,\n",
    "                             min_leaf_size = min_leaf_size, max_depth = max_depth, \n",
    "                             n_proposals = n_proposals, balancedness_tol = balancedness_tol,\n",
    "                             verbose = verbose)\n",
    "        time2 = time.time()\n",
    "        time_list[str(N)][\"rf_approx_risk\"][run] = time2 - time1\n",
    "\n",
    "        time1 = time.time()\n",
    "        rf_approx_sol = build_tree(Y, X, Y_est, X_est, \n",
    "                             opt_solver = opt_solver, hessian_computer = hessian_computer,\n",
    "                             gradient_computer = gradient_computer, \n",
    "                             search_active_constraint = active_constraint,\n",
    "                             compute_update_step = update_step,\n",
    "                             crit_computer = partial(compute_crit_approx_sol, obj_coef = obj_coef, alpha = alpha), \n",
    "                             honesty = honesty, mtry = mtry,\n",
    "                             min_leaf_size = min_leaf_size, max_depth = max_depth, \n",
    "                             n_proposals = n_proposals, balancedness_tol = balancedness_tol,\n",
    "                             verbose = verbose)\n",
    "        time2 = time.time()\n",
    "        time_list[str(N)][\"rf_approx_sol\"][run] = time2 - time1\n",
    "\n",
    "        time1 = time.time()\n",
    "        rf_rf = build_tree(Y, X, Y_est, X_est, \n",
    "                             opt_solver = opt_solver, hessian_computer = hessian_computer,\n",
    "                             gradient_computer = gradient_computer, \n",
    "                             search_active_constraint = active_constraint,\n",
    "                             compute_update_step = update_step,\n",
    "                             crit_computer = compute_crit_rf, \n",
    "                             honesty = honesty, mtry = mtry,\n",
    "                             min_leaf_size = min_leaf_size, max_depth = max_depth, \n",
    "                             n_proposals = n_proposals, balancedness_tol = balancedness_tol,\n",
    "                             verbose = verbose)\n",
    "        time2 = time.time()\n",
    "        time_list[str(N)][\"rf_rf\"][run] = time2 - time1\n",
    "    \n",
    "        time1 = time.time()\n",
    "        rf_oracle = build_tree(Y, X, Y_est, X_est, \n",
    "                             opt_solver = opt_solver, hessian_computer = hessian_computer,\n",
    "                             gradient_computer = gradient_computer, \n",
    "                             search_active_constraint = active_constraint,\n",
    "                             compute_update_step = update_step,\n",
    "                             crit_computer = partial(compute_crit_oracle, solver = opt_solver), \n",
    "                             honesty = honesty, mtry = mtry,\n",
    "                             min_leaf_size = min_leaf_size, max_depth = max_depth, \n",
    "                             n_proposals = n_proposals, balancedness_tol = balancedness_tol,\n",
    "                             verbose = verbose)\n",
    "        time2 = time.time()\n",
    "        time_list[str(N)][\"rf_oracle\"][run] = time2 - time1\n",
    "    "
   ]
  },
  {
   "cell_type": "code",
   "execution_count": 19,
   "metadata": {},
   "outputs": [],
   "source": [
    "pickle.dump(time_list, open(\"time_cvar.pkl\", \"wb\"))"
   ]
  },
  {
   "cell_type": "code",
   "execution_count": 27,
   "metadata": {},
   "outputs": [
    {
     "data": {
      "text/plain": [
       "{'100': {'rf_approx_risk': 0.25630850791931153,\n",
       "  'rf_approx_sol': 0.21890861988067628,\n",
       "  'rf_oracle': 41.41384615898132,\n",
       "  'rf_rf': 0.21552760601043702},\n",
       " '200': {'rf_approx_risk': 0.680793023109436,\n",
       "  'rf_approx_sol': 0.6992438793182373,\n",
       "  'rf_oracle': 165.025603890419,\n",
       "  'rf_rf': 0.49462893009185793},\n",
       " '400': {'rf_approx_risk': 1.6779053449630736,\n",
       "  'rf_approx_sol': 2.238886022567749,\n",
       "  'rf_oracle': 615.8862199783325,\n",
       "  'rf_rf': 1.3391101837158204}}"
      ]
     },
     "execution_count": 27,
     "metadata": {},
     "output_type": "execute_result"
    }
   ],
   "source": [
    "{N: {m: time_list[N][m].mean() for m in time_list[N].keys()} for N in time_list.keys()}"
   ]
  },
  {
   "cell_type": "code",
   "execution_count": 28,
   "metadata": {},
   "outputs": [
    {
     "data": {
      "text/plain": [
       "{'100': {'rf_approx_risk': 0.07662490427581575,\n",
       "  'rf_approx_sol': 0.05256373332214826,\n",
       "  'rf_oracle': 5.432989145381002,\n",
       "  'rf_rf': 0.08287181305335586},\n",
       " '200': {'rf_approx_risk': 0.36117759754177,\n",
       "  'rf_approx_sol': 0.2021090993018887,\n",
       "  'rf_oracle': 15.774651640318456,\n",
       "  'rf_rf': 0.06514774768712296},\n",
       " '400': {'rf_approx_risk': 0.5416776652506486,\n",
       "  'rf_approx_sol': 0.33419189845281644,\n",
       "  'rf_oracle': 83.91081487211585,\n",
       "  'rf_rf': 0.45480064096023876}}"
      ]
     },
     "execution_count": 28,
     "metadata": {},
     "output_type": "execute_result"
    }
   ],
   "source": [
    "{N: {m: time_list[N][m].std() for m in time_list[N].keys()} for N in time_list.keys()}"
   ]
  },
  {
   "cell_type": "code",
   "execution_count": null,
   "metadata": {},
   "outputs": [],
   "source": []
  },
  {
   "cell_type": "code",
   "execution_count": null,
   "metadata": {},
   "outputs": [],
   "source": []
  }
 ],
 "metadata": {
  "kernelspec": {
   "display_name": "Python 3",
   "language": "python",
   "name": "python3"
  },
  "language_info": {
   "codemirror_mode": {
    "name": "ipython",
    "version": 3
   },
   "file_extension": ".py",
   "mimetype": "text/x-python",
   "name": "python",
   "nbconvert_exporter": "python",
   "pygments_lexer": "ipython3",
   "version": "3.6.10"
  }
 },
 "nbformat": 4,
 "nbformat_minor": 4
}
