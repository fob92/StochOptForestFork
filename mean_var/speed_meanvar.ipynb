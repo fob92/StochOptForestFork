{
 "cells": [
  {
   "cell_type": "code",
   "execution_count": 5,
   "metadata": {},
   "outputs": [],
   "source": [
    "%run tree.py\n",
    "%run meanvar_tree_utilities.py"
   ]
  },
  {
   "cell_type": "code",
   "execution_count": 6,
   "metadata": {},
   "outputs": [],
   "source": [
    "N_list = [100, 200, 400]; p = 10\n",
    "R = 0.1; alpha = 0.1; obj_coef = 0\n",
    "lb = 0; ub = 1;  sum_bound = 1; if_stoch_constr = False\n",
    "runs = 10\n",
    "\n",
    "generate_Y = generate_Y_lognormal\n",
    "cond_mean = [lambda x: np.exp(x[:, 0])/5, lambda x: x[:, 0]/5, lambda x: np.abs(x[:, 0])/5]\n",
    "cond_std = [lambda x: 1 - 0.5*((-3<=x[:, 1]) & (x[:, 1]<=-1)), lambda x: 1 - 0.5*((-1<=x[:, 1])&(x[:, 1]<=1)), lambda x: 1 - 0.5*((1<=x[:, 1])&(x[:, 1]<=3))]\n",
    "\n",
    "opt_solver = partial(solve_mean_variance, alpha = alpha, R = R, obj_coef = obj_coef, lb = lb, ub = ub, sum_bound = sum_bound, if_stoch_constr = if_stoch_constr)\n",
    "hessian_computer = partial(compute_hessian, alpha = alpha)\n",
    "active_constraint = partial(search_active_constraint,  R = R, lb = lb, ub = ub, sum_bound = sum_bound, if_stoch_constr = if_stoch_constr)\n",
    "gradient_computer = partial(compute_gradient,  alpha = alpha, R = R, obj_coef = obj_coef)\n",
    "update_step = partial(compute_update_step, R = R)\n",
    "\n",
    "time_list = {str(N): {key: np.zeros(runs) for key in [\"rf_approx_risk\", \"rf_approx_sol\", \"rf_rf\", \"rf_oracle\"]} for N in N_list}"
   ]
  },
  {
   "cell_type": "code",
   "execution_count": 9,
   "metadata": {},
   "outputs": [
    {
     "name": "stdout",
     "output_type": "stream",
     "text": [
      "N: 100\n",
      "run: 0\n",
      "run: 1\n",
      "run: 2\n",
      "run: 3\n",
      "run: 4\n",
      "run: 5\n",
      "run: 6\n",
      "run: 7\n",
      "run: 8\n",
      "run: 9\n",
      "N: 200\n",
      "run: 0\n",
      "run: 1\n",
      "run: 2\n",
      "run: 3\n",
      "run: 4\n",
      "run: 5\n",
      "run: 6\n",
      "run: 7\n",
      "run: 8\n",
      "run: 9\n",
      "N: 400\n",
      "run: 0\n",
      "run: 1\n",
      "run: 2\n",
      "run: 3\n",
      "run: 4\n",
      "run: 5\n",
      "run: 6\n",
      "run: 7\n",
      "run: 8\n",
      "run: 9\n"
     ]
    }
   ],
   "source": [
    "for N in N_list:\n",
    "    print(\"N:\", N)\n",
    "    n_proposals = N; \n",
    "    mtry = p;\n",
    "    subsample_ratio = 1;\n",
    "    max_depth=100; \n",
    "    min_leaf_size=10; \n",
    "    balancedness_tol = 0.2; \n",
    "    honesty = False;\n",
    "    verbose = False; oracle = True;\n",
    "    bootstrap = True; \n",
    "    \n",
    "    X_list = [np.random.normal(size = (N, p)) for run in range(runs)]\n",
    "    Y_list = [generate_Y(X_list[run], cond_mean, cond_std) for run in range(runs)]\n",
    "\n",
    "    for run in range(runs):\n",
    "        print(\"run:\", run)\n",
    "        Y = Y_list[run]; Y_est = Y_list[run]\n",
    "        X = X_list[run]; X_est = X_list[run]; \n",
    "        \n",
    "        time1 = time.time()\n",
    "        rf_approx_risk = build_tree(Y, X, Y_est, X_est, \n",
    "                             opt_solver = opt_solver, hessian_computer = hessian_computer,\n",
    "                             gradient_computer = gradient_computer, \n",
    "                             search_active_constraint = active_constraint,\n",
    "                             compute_update_step = update_step,\n",
    "                             crit_computer = compute_crit_approx_risk, \n",
    "                             honesty = honesty, mtry = mtry,\n",
    "                             min_leaf_size = min_leaf_size, max_depth = max_depth, \n",
    "                             n_proposals = n_proposals, balancedness_tol = balancedness_tol,\n",
    "                             verbose = verbose)\n",
    "        time2 = time.time()\n",
    "        time_list[str(N)][\"rf_approx_risk\"][run] = time2 - time1\n",
    "\n",
    "        time1 = time.time()\n",
    "        rf_approx_sol = build_tree(Y, X, Y_est, X_est, \n",
    "                             opt_solver = opt_solver, hessian_computer = hessian_computer,\n",
    "                             gradient_computer = gradient_computer, \n",
    "                             search_active_constraint = active_constraint,\n",
    "                             compute_update_step = update_step,\n",
    "                             crit_computer = partial(compute_crit_approx_sol, obj_coef = obj_coef, alpha = alpha), \n",
    "                             honesty = honesty, mtry = mtry,\n",
    "                             min_leaf_size = min_leaf_size, max_depth = max_depth, \n",
    "                             n_proposals = n_proposals, balancedness_tol = balancedness_tol,\n",
    "                             verbose = verbose)\n",
    "        time2 = time.time()\n",
    "        time_list[str(N)][\"rf_approx_sol\"][run] = time2 - time1\n",
    "\n",
    "        time1 = time.time()\n",
    "        rf_rf = build_tree(Y, X, Y_est, X_est, \n",
    "                             opt_solver = opt_solver, hessian_computer = hessian_computer,\n",
    "                             gradient_computer = gradient_computer, \n",
    "                             search_active_constraint = active_constraint,\n",
    "                             compute_update_step = update_step,\n",
    "                             crit_computer = compute_crit_rf, \n",
    "                             honesty = honesty, mtry = mtry,\n",
    "                             min_leaf_size = min_leaf_size, max_depth = max_depth, \n",
    "                             n_proposals = n_proposals, balancedness_tol = balancedness_tol,\n",
    "                             verbose = verbose)\n",
    "        time2 = time.time()\n",
    "        time_list[str(N)][\"rf_rf\"][run] = time2 - time1\n",
    "    \n",
    "        time1 = time.time()\n",
    "        rf_oracle = build_tree(Y, X, Y_est, X_est, \n",
    "                             opt_solver = opt_solver, hessian_computer = hessian_computer,\n",
    "                             gradient_computer = gradient_computer, \n",
    "                             search_active_constraint = active_constraint,\n",
    "                             compute_update_step = update_step,\n",
    "                             crit_computer = partial(compute_crit_oracle, solver = opt_solver), \n",
    "                             honesty = honesty, mtry = mtry,\n",
    "                             min_leaf_size = min_leaf_size, max_depth = max_depth, \n",
    "                             n_proposals = n_proposals, balancedness_tol = balancedness_tol,\n",
    "                             verbose = verbose)\n",
    "        time2 = time.time()\n",
    "        time_list[str(N)][\"rf_oracle\"][run] = time2 - time1\n",
    "    "
   ]
  },
  {
   "cell_type": "code",
   "execution_count": 13,
   "metadata": {},
   "outputs": [],
   "source": [
    "pickle.dump(time_list, open(\"time_meanvar.pkl\", \"wb\"))"
   ]
  },
  {
   "cell_type": "code",
   "execution_count": 11,
   "metadata": {},
   "outputs": [
    {
     "data": {
      "text/plain": [
       "{'100': {'rf_approx_risk': 0.09544167518615723,\n",
       "  'rf_approx_sol': 0.08060789108276367,\n",
       "  'rf_oracle': 10.244396829605103,\n",
       "  'rf_rf': 0.07557811737060546},\n",
       " '200': {'rf_approx_risk': 0.22738821506500245,\n",
       "  'rf_approx_sol': 0.28768579959869384,\n",
       "  'rf_oracle': 32.584637665748595,\n",
       "  'rf_rf': 0.19053428173065184},\n",
       " '400': {'rf_approx_risk': 0.7578061580657959,\n",
       "  'rf_approx_sol': 1.4811426162719727,\n",
       "  'rf_oracle': 90.39753568172455,\n",
       "  'rf_rf': 0.6741846323013305}}"
      ]
     },
     "execution_count": 11,
     "metadata": {},
     "output_type": "execute_result"
    }
   ],
   "source": [
    "{N: {m: time_list[N][m].mean() for m in time_list[N].keys()} for N in time_list.keys()}"
   ]
  },
  {
   "cell_type": "code",
   "execution_count": 12,
   "metadata": {},
   "outputs": [
    {
     "data": {
      "text/plain": [
       "{'100': {'rf_approx_risk': 0.040564479592028024,\n",
       "  'rf_approx_sol': 0.014451931200771257,\n",
       "  'rf_oracle': 1.5058775012916399,\n",
       "  'rf_rf': 0.02536320911336496},\n",
       " '200': {'rf_approx_risk': 0.04051650062988821,\n",
       "  'rf_approx_sol': 0.05279786884238977,\n",
       "  'rf_oracle': 7.631760692418332,\n",
       "  'rf_rf': 0.0367482486934303},\n",
       " '400': {'rf_approx_risk': 0.08954796084947915,\n",
       "  'rf_approx_sol': 0.5078014482022202,\n",
       "  'rf_oracle': 13.674538794130605,\n",
       "  'rf_rf': 0.20004046622068203}}"
      ]
     },
     "execution_count": 12,
     "metadata": {},
     "output_type": "execute_result"
    }
   ],
   "source": [
    "{N: {m: time_list[N][m].std() for m in time_list[N].keys()} for N in time_list.keys()}"
   ]
  },
  {
   "cell_type": "code",
   "execution_count": null,
   "metadata": {},
   "outputs": [],
   "source": []
  }
 ],
 "metadata": {
  "kernelspec": {
   "display_name": "Python 3",
   "language": "python",
   "name": "python3"
  },
  "language_info": {
   "codemirror_mode": {
    "name": "ipython",
    "version": 3
   },
   "file_extension": ".py",
   "mimetype": "text/x-python",
   "name": "python",
   "nbconvert_exporter": "python",
   "pygments_lexer": "ipython3",
   "version": "3.6.10"
  }
 },
 "nbformat": 4,
 "nbformat_minor": 4
}
